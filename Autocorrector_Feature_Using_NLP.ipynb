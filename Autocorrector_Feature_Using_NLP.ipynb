{
  "nbformat": 4,
  "nbformat_minor": 0,
  "metadata": {
    "colab": {
      "provenance": []
    },
    "kernelspec": {
      "name": "python3",
      "display_name": "Python 3"
    },
    "language_info": {
      "name": "python"
    }
  },
  "cells": [
    {
      "cell_type": "code",
      "source": [
        "pip install pyspellchecker\n"
      ],
      "metadata": {
        "colab": {
          "base_uri": "https://localhost:8080/"
        },
        "id": "rmIiQ5mRpSPb",
        "outputId": "bbb07b1b-b9a6-4c57-d807-2f21f526336e"
      },
      "execution_count": 5,
      "outputs": [
        {
          "output_type": "stream",
          "name": "stdout",
          "text": [
            "Collecting pyspellchecker\n",
            "  Downloading pyspellchecker-0.8.0-py3-none-any.whl (6.8 MB)\n",
            "\u001b[2K     \u001b[90m━━━━━━━━━━━━━━━━━━━━━━━━━━━━━━━━━━━━━━━━\u001b[0m \u001b[32m6.8/6.8 MB\u001b[0m \u001b[31m49.0 MB/s\u001b[0m eta \u001b[36m0:00:00\u001b[0m\n",
            "\u001b[?25hInstalling collected packages: pyspellchecker\n",
            "Successfully installed pyspellchecker-0.8.0\n"
          ]
        }
      ]
    },
    {
      "cell_type": "code",
      "execution_count": 14,
      "metadata": {
        "colab": {
          "base_uri": "https://localhost:8080/"
        },
        "outputId": "2f612549-2ea8-40bf-d131-1dca3360115d",
        "id": "p5zjprl7X78Z"
      },
      "outputs": [
        {
          "output_type": "stream",
          "name": "stderr",
          "text": [
            "[nltk_data] Downloading package punkt to /root/nltk_data...\n",
            "[nltk_data]   Package punkt is already up-to-date!\n"
          ]
        },
        {
          "output_type": "stream",
          "name": "stdout",
          "text": [
            "Welcome to the Spell Checker 😄 !\n",
            "Enter text (or 'exit' to quit): hai\n",
            "\n",
            "Original text: hai\n",
            "Spell Checker Corrected text: had\n",
            "\n",
            "Enter text (or 'exit' to quit): wht\n",
            "\n",
            "Original text: wht\n",
            "Spell Checker Corrected text: what\n",
            "\n",
            "Enter text (or 'exit' to quit): bei\n",
            "\n",
            "Original text: bei\n",
            "Spell Checker Corrected text: be\n",
            "\n",
            "Enter text (or 'exit' to quit): appe\n",
            "\n",
            "Original text: appe\n",
            "Spell Checker Corrected text: apple\n",
            "\n",
            "Enter text (or 'exit' to quit): lok\n",
            "\n",
            "Original text: lok\n",
            "Spell Checker Corrected text: look\n",
            "\n",
            "Enter text (or 'exit' to quit): exit\n",
            "Exiting Spell Checker. Goodbye! Meet you next time 🫡\n"
          ]
        }
      ],
      "source": [
        "# Importing Libraries\n",
        "import re\n",
        "from spellchecker import SpellChecker\n",
        "import nltk\n",
        "from nltk.tokenize import word_tokenize\n",
        "\n",
        "# Download the punkt tokenizer from NLTK\n",
        "nltk.download('punkt')\n",
        "\n",
        "class SpellCheck:\n",
        "    def __init__(self):\n",
        "        # Initialize the SpellChecker instance\n",
        "        self.spell = SpellChecker()\n",
        "\n",
        "    def tokenize_and_spell_check(self, text):\n",
        "        # Tokenize the input text\n",
        "        words = word_tokenize(text)\n",
        "\n",
        "        # Find and correct misspelled words using the SpellChecker instance\n",
        "        for word in words:\n",
        "          corrected_words = [self.spell.correction(word)]\n",
        "\n",
        "        # Join the corrected words to form the corrected text\n",
        "        return ' '.join(corrected_words)\n",
        "\n",
        "    def process_input_text(self, text):\n",
        "        # Remove special characters and numbers using regular expression\n",
        "        text = re.sub(r'[^a-zA-Z\\s]', '', text)\n",
        "\n",
        "        # Convert the text to lowercase\n",
        "        text = text.lower()\n",
        "        return text\n",
        "\n",
        "    def run_spell_checker(self):\n",
        "        print(\"Welcome to the Spell Checker 😄 !\")\n",
        "\n",
        "        while True:\n",
        "            # Prompt the user to enter text or 'exit' to quit\n",
        "            user_input = input(\"Enter text (or 'exit' to quit): \")\n",
        "\n",
        "            if user_input.lower() == 'exit':\n",
        "                # Exit the loop if the user enters 'exit'\n",
        "                print(\"Exiting Spell Checker. Goodbye! Meet you next time 🫡\")\n",
        "                break\n",
        "\n",
        "            # Process the user input\n",
        "            processed_text = self.process_input_text(user_input)\n",
        "\n",
        "            # Spell check and display the result\n",
        "            corrected_text = self.tokenize_and_spell_check(processed_text)\n",
        "            print(\"\\nOriginal text:\", user_input)\n",
        "            print(\"Spell Checker Corrected text:\", corrected_text)\n",
        "            print()\n",
        "\n",
        "if __name__ == \"__main__\":\n",
        "    # Create an instance of the SpellCheckerProject class\n",
        "    spell_checker_project = SpellCheck()\n",
        "\n",
        "    # Run the spell checker\n",
        "    spell_checker_project.run_spell_checker()\n"
      ]
    }
  ]
}